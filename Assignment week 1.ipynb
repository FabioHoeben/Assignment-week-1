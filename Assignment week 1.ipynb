{
 "cells": [
  {
   "cell_type": "code",
   "execution_count": 116,
   "metadata": {},
   "outputs": [
    {
     "data": {
      "text/html": [
       "<div>\n",
       "<style scoped>\n",
       "    .dataframe tbody tr th:only-of-type {\n",
       "        vertical-align: middle;\n",
       "    }\n",
       "\n",
       "    .dataframe tbody tr th {\n",
       "        vertical-align: top;\n",
       "    }\n",
       "\n",
       "    .dataframe thead th {\n",
       "        text-align: right;\n",
       "    }\n",
       "</style>\n",
       "<table border=\"1\" class=\"dataframe\">\n",
       "  <thead>\n",
       "    <tr style=\"text-align: right;\">\n",
       "      <th></th>\n",
       "      <th>id</th>\n",
       "      <th>20-6-2013</th>\n",
       "      <th>21-6-2013</th>\n",
       "      <th>22-6-2013</th>\n",
       "      <th>23-6-2013</th>\n",
       "      <th>24-6-2013</th>\n",
       "      <th>25-6-2013</th>\n",
       "      <th>26-6-2013</th>\n",
       "      <th>27-6-2013</th>\n",
       "      <th>28-6-2013</th>\n",
       "      <th>...</th>\n",
       "      <th>8-5-2014</th>\n",
       "      <th>9-5-2014</th>\n",
       "      <th>10-5-2014</th>\n",
       "      <th>11-5-2014</th>\n",
       "      <th>12-5-2014</th>\n",
       "      <th>13-5-2014</th>\n",
       "      <th>mean</th>\n",
       "      <th>median</th>\n",
       "      <th>var</th>\n",
       "      <th>standard</th>\n",
       "    </tr>\n",
       "  </thead>\n",
       "  <tbody>\n",
       "    <tr>\n",
       "      <th>0</th>\n",
       "      <td>1</td>\n",
       "      <td>NaN</td>\n",
       "      <td>NaN</td>\n",
       "      <td>NaN</td>\n",
       "      <td>NaN</td>\n",
       "      <td>3941.0</td>\n",
       "      <td>15733.0</td>\n",
       "      <td>9929.0</td>\n",
       "      <td>12879.0</td>\n",
       "      <td>10541.0</td>\n",
       "      <td>...</td>\n",
       "      <td>NaN</td>\n",
       "      <td>NaN</td>\n",
       "      <td>NaN</td>\n",
       "      <td>NaN</td>\n",
       "      <td>NaN</td>\n",
       "      <td>NaN</td>\n",
       "      <td>10144.048193</td>\n",
       "      <td>9860.000000</td>\n",
       "      <td>2.988485e+07</td>\n",
       "      <td>2.298061e+06</td>\n",
       "    </tr>\n",
       "    <tr>\n",
       "      <th>1</th>\n",
       "      <td>2</td>\n",
       "      <td>NaN</td>\n",
       "      <td>NaN</td>\n",
       "      <td>10473.0</td>\n",
       "      <td>705.0</td>\n",
       "      <td>4287.0</td>\n",
       "      <td>5507.0</td>\n",
       "      <td>4024.0</td>\n",
       "      <td>3926.0</td>\n",
       "      <td>14595.0</td>\n",
       "      <td>...</td>\n",
       "      <td>NaN</td>\n",
       "      <td>NaN</td>\n",
       "      <td>NaN</td>\n",
       "      <td>NaN</td>\n",
       "      <td>NaN</td>\n",
       "      <td>NaN</td>\n",
       "      <td>5652.756098</td>\n",
       "      <td>5374.000000</td>\n",
       "      <td>1.400906e+07</td>\n",
       "      <td>1.083623e+06</td>\n",
       "    </tr>\n",
       "    <tr>\n",
       "      <th>2</th>\n",
       "      <td>3</td>\n",
       "      <td>NaN</td>\n",
       "      <td>11428.0</td>\n",
       "      <td>12523.0</td>\n",
       "      <td>2553.0</td>\n",
       "      <td>190.0</td>\n",
       "      <td>2164.0</td>\n",
       "      <td>8185.0</td>\n",
       "      <td>9630.0</td>\n",
       "      <td>8983.0</td>\n",
       "      <td>...</td>\n",
       "      <td>NaN</td>\n",
       "      <td>6227.0</td>\n",
       "      <td>4567.0</td>\n",
       "      <td>2567.0</td>\n",
       "      <td>1129.0</td>\n",
       "      <td>NaN</td>\n",
       "      <td>8246.033557</td>\n",
       "      <td>8215.516779</td>\n",
       "      <td>2.278715e+07</td>\n",
       "      <td>1.847619e+06</td>\n",
       "    </tr>\n",
       "    <tr>\n",
       "      <th>3</th>\n",
       "      <td>4</td>\n",
       "      <td>NaN</td>\n",
       "      <td>NaN</td>\n",
       "      <td>NaN</td>\n",
       "      <td>NaN</td>\n",
       "      <td>NaN</td>\n",
       "      <td>NaN</td>\n",
       "      <td>NaN</td>\n",
       "      <td>NaN</td>\n",
       "      <td>NaN</td>\n",
       "      <td>...</td>\n",
       "      <td>NaN</td>\n",
       "      <td>NaN</td>\n",
       "      <td>NaN</td>\n",
       "      <td>NaN</td>\n",
       "      <td>NaN</td>\n",
       "      <td>NaN</td>\n",
       "      <td>3460.380952</td>\n",
       "      <td>3000.000000</td>\n",
       "      <td>1.002947e+07</td>\n",
       "      <td>2.046556e+06</td>\n",
       "    </tr>\n",
       "    <tr>\n",
       "      <th>4</th>\n",
       "      <td>5</td>\n",
       "      <td>NaN</td>\n",
       "      <td>NaN</td>\n",
       "      <td>NaN</td>\n",
       "      <td>NaN</td>\n",
       "      <td>NaN</td>\n",
       "      <td>NaN</td>\n",
       "      <td>NaN</td>\n",
       "      <td>NaN</td>\n",
       "      <td>NaN</td>\n",
       "      <td>...</td>\n",
       "      <td>NaN</td>\n",
       "      <td>NaN</td>\n",
       "      <td>NaN</td>\n",
       "      <td>NaN</td>\n",
       "      <td>NaN</td>\n",
       "      <td>NaN</td>\n",
       "      <td>5215.636364</td>\n",
       "      <td>4986.500000</td>\n",
       "      <td>1.522560e+07</td>\n",
       "      <td>1.998538e+06</td>\n",
       "    </tr>\n",
       "  </tbody>\n",
       "</table>\n",
       "<p>5 rows × 333 columns</p>\n",
       "</div>"
      ],
      "text/plain": [
       "   id  20-6-2013  21-6-2013  22-6-2013  23-6-2013  24-6-2013  25-6-2013  \\\n",
       "0   1        NaN        NaN        NaN        NaN     3941.0    15733.0   \n",
       "1   2        NaN        NaN    10473.0      705.0     4287.0     5507.0   \n",
       "2   3        NaN    11428.0    12523.0     2553.0      190.0     2164.0   \n",
       "3   4        NaN        NaN        NaN        NaN        NaN        NaN   \n",
       "4   5        NaN        NaN        NaN        NaN        NaN        NaN   \n",
       "\n",
       "   26-6-2013  27-6-2013  28-6-2013  ...  8-5-2014  9-5-2014  10-5-2014  \\\n",
       "0     9929.0    12879.0    10541.0  ...       NaN       NaN        NaN   \n",
       "1     4024.0     3926.0    14595.0  ...       NaN       NaN        NaN   \n",
       "2     8185.0     9630.0     8983.0  ...       NaN    6227.0     4567.0   \n",
       "3        NaN        NaN        NaN  ...       NaN       NaN        NaN   \n",
       "4        NaN        NaN        NaN  ...       NaN       NaN        NaN   \n",
       "\n",
       "   11-5-2014  12-5-2014  13-5-2014          mean       median           var  \\\n",
       "0        NaN        NaN        NaN  10144.048193  9860.000000  2.988485e+07   \n",
       "1        NaN        NaN        NaN   5652.756098  5374.000000  1.400906e+07   \n",
       "2     2567.0     1129.0        NaN   8246.033557  8215.516779  2.278715e+07   \n",
       "3        NaN        NaN        NaN   3460.380952  3000.000000  1.002947e+07   \n",
       "4        NaN        NaN        NaN   5215.636364  4986.500000  1.522560e+07   \n",
       "\n",
       "       standard  \n",
       "0  2.298061e+06  \n",
       "1  1.083623e+06  \n",
       "2  1.847619e+06  \n",
       "3  2.046556e+06  \n",
       "4  1.998538e+06  \n",
       "\n",
       "[5 rows x 333 columns]"
      ]
     },
     "execution_count": 116,
     "metadata": {},
     "output_type": "execute_result"
    }
   ],
   "source": [
    "import seaborn as sns #this is the plotting library I'll be using \n",
    "import pandas as pd #\"as pd\" means that we can use the abbreviation in commands\n",
    "import matplotlib.pyplot as plt #we need Matplotlib for setting the labels in the Seaborn graphs\n",
    "\n",
    "#import first dataframe with the steps per user\n",
    "df1 = pd.read_csv('steps.csv', sep=';')\n",
    "\n",
    "#Calculate mean, median and var and add this value to the new created column mean, skip NaN values\n",
    "df1[\"mean\"] = df1.mean(axis = 1, skipna = True)\n",
    "df1[\"median\"] = df1.median(axis = 1, skipna = True)\n",
    "df1[\"var\"] = df1.var(axis = 1, skipna = True) \n",
    "df1[\"standard\"] = df1.std(axis=1)\n",
    "\n",
    "\n",
    "df1.head()\n",
    "\n",
    "\n"
   ]
  },
  {
   "cell_type": "code",
   "execution_count": 114,
   "metadata": {},
   "outputs": [
    {
     "data": {
      "image/png": "[encoded data removed]",
      "text/plain": [
       "<Figure size 432x288 with 1 Axes>"
      ]
     },
     "metadata": {
      "needs_background": "light"
     },
     "output_type": "display_data"
    }
   ],
   "source": [
    "#The mean of dayly steps per user\n",
    "df1 = df1.sort_values(by=\"mean\",ascending=False)\n",
    "ax = sns.barplot(x=df1[\"id\"],y=df1[\"mean\"])\n",
    "plt.title('Mean steps per user')\n",
    "plt.show()\n"
   ]
  },
  {
   "cell_type": "code",
   "execution_count": 101,
   "metadata": {},
   "outputs": [
    {
     "name": "stdout",
     "output_type": "stream",
     "text": [
      "Distribution of steps per user\n"
     ]
    },
    {
     "data": {
      "image/png": "[encoded data removed]",
      "text/plain": [
       "<Figure size 432x288 with 1 Axes>"
      ]
     },
     "metadata": {
      "needs_background": "light"
     },
     "output_type": "display_data"
    }
   ],
   "source": [
    "#Remove all values higher then 25000\n",
    "def above_5(x):\n",
    "    if(x > 25000): \n",
    "        return float('NaN')\n",
    "    else: \n",
    "        return x\n",
    "df1['mean'] = df1['mean'].apply(above_5)\n",
    "\n",
    "df1['mean'].name = 'Steps' \n",
    "file_size = df1['mean'].dropna()\n",
    "sns.distplot(file_size, kde=False) \n",
    "plt.title('Distribution of steps per user')\n",
    "plt.show()\n"
   ]
  },
  {
   "cell_type": "code",
   "execution_count": 85,
   "metadata": {},
   "outputs": [
    {
     "data": {
      "image/png": "[encoded data removed]",
      "text/plain": [
       "<Figure size 432x288 with 1 Axes>"
      ]
     },
     "metadata": {
      "needs_background": "light"
     },
     "output_type": "display_data"
    }
   ],
   "source": [
    "#Boxplot mean\n",
    "df1['mean'] = df1['mean'].apply(above_5)\n",
    "sns.boxplot(df1['mean'])\n",
    "plt.title('Number of steps')\n",
    "plt.xlabel('Steps')\n",
    "plt.show()"
   ]
  },
  {
   "cell_type": "code",
   "execution_count": 112,
   "metadata": {},
   "outputs": [
    {
     "data": {
      "image/png": "[encoded data removed]",
      "text/plain": [
       "<Figure size 432x288 with 1 Axes>"
      ]
     },
     "metadata": {
      "needs_background": "light"
     },
     "output_type": "display_data"
    }
   ],
   "source": [
    "df1 = df1.sort_values(by=\"median\",ascending=False)\n",
    "df1['median'].name = 'median' #Labeling the variable for plotting\n",
    "file_size = df1['median'].dropna()\n",
    "sns.distplot(file_size, kde=False) \n",
    "plt.title('Median')\n",
    "plt.show()\n"
   ]
  },
  {
   "cell_type": "code",
   "execution_count": 113,
   "metadata": {},
   "outputs": [
    {
     "data": {
      "image/png": "[encoded data removed]",
      "text/plain": [
       "<Figure size 432x288 with 1 Axes>"
      ]
     },
     "metadata": {
      "needs_background": "light"
     },
     "output_type": "display_data"
    }
   ],
   "source": [
    "df1 = df1.sort_values(by=\"mean\",ascending=False)\n",
    "df1['mean'].name = 'mean' #Labeling the variable for plotting\n",
    "file_size = df1['median'].dropna()\n",
    "sns.distplot(file_size, kde=False) \n",
    "plt.title('Mean')\n",
    "plt.show()\n"
   ]
  },
  {
   "cell_type": "markdown",
   "metadata": {},
   "source": [
    "# Verbal discription\n",
    "Verbal description of the distribution, including an investigation into its normality, skewness, outliers, etc\n",
    "The distribution is right skewed because that the mean has an higher value then the median. \n",
    "\n",
    "There were a few values higher then 25.000 this outliers are removed. As you can see in the Boxplot there are still outliers in the data, this are users with more then 15.000 steps a day. 50% of all the values are in the box, every part is 25%. the narrower the more values is this part. Thus the most values are arround 500 steps. \n"
   ]
  },
  {
   "cell_type": "code",
   "execution_count": null,
   "metadata": {},
   "outputs": [],
   "source": []
  }
 ],
 "metadata": {
  "kernelspec": {
   "display_name": "Python 3",
   "language": "python",
   "name": "python3"
  },
  "language_info": {
   "codemirror_mode": {
    "name": "ipython",
    "version": 3
   },
   "file_extension": ".py",
   "mimetype": "text/x-python",
   "name": "python",
   "nbconvert_exporter": "python",
   "pygments_lexer": "ipython3",
   "version": "3.8.3"
  }
 },
 "nbformat": 4,
 "nbformat_minor": 4
}
